{
  "cells": [
    {
      "cell_type": "markdown",
      "metadata": {
        "id": "view-in-github",
        "colab_type": "text"
      },
      "source": [
        "<a href=\"https://colab.research.google.com/github/mars137/synthetic-data/blob/main/docs/notebooks/balance_data_with_conditional_data_generation.ipynb\" target=\"_parent\"><img src=\"https://colab.research.google.com/assets/colab-badge.svg\" alt=\"Open In Colab\"/></a>"
      ]
    },
    {
      "cell_type": "markdown",
      "metadata": {
        "id": "UTRxpSlaczHY"
      },
      "source": [
        "# Balancing datasets with conditional data generation\n",
        "\n",
        "Imbalanced datasets are a common problem in machine learning. There are several different scenarios where an imbalanced dataset can lead to a less than optimal model solution. One scenario is when you're training a multi-class classifier and one or more of the classes have fewer training examples than the others. This can sometimes lead to a model that may look like it's doing well overall,when really the accuracy of the underepresented classes is inferior to that of the classes with good representation.\n",
        "\n",
        "Another scenario is when the training data has imbalanced demographic data. Part of what the Fair AI movement is about is ensuring that AI models do equally well on all demographic slices.\n",
        "\n",
        "One approach to improve representational biases in data is through by conditioning Gretel's synthetic data model to generate more examples of different classes of data.\n",
        "\n",
        "You can use the approach to replace the original data with a balanced synthetic dataset or you can use it to augment the existing dataset, producing just enough synthetic data such that when added back into the original data, the imbalance is resolved.\n",
        "\n",
        "In this notebook, we're going to step you through how to use Gretel synthetics to resolve demographic bias in a dataset. We will be creating a new synthetic dataset that can be used in place of the original one.\n"
      ]
    },
    {
      "cell_type": "markdown",
      "metadata": {
        "id": "An3JaXtu_15j"
      },
      "source": [
        "## Begin by authenticating\n"
      ]
    },
    {
      "cell_type": "code",
      "execution_count": 1,
      "metadata": {
        "id": "VEM6kjRsczHd"
      },
      "outputs": [],
      "source": [
        "%%capture\n",
        "!pip install -U gretel-client"
      ]
    },
    {
      "cell_type": "code",
      "execution_count": 2,
      "metadata": {
        "colab": {
          "base_uri": "https://localhost:8080/"
        },
        "id": "ZQ-TmAdwczHd",
        "outputId": "d986060d-1d8b-47ae-fb31-f000f8a1b05c"
      },
      "outputs": [
        {
          "output_type": "stream",
          "name": "stdout",
          "text": [
            "Gretel Api Key··········\n",
            "Caching Gretel config to disk.\n",
            "Using endpoint https://api.gretel.cloud\n",
            "Logged in as atif.tahir13@gmail.com ✅\n"
          ]
        }
      ],
      "source": [
        "# Specify your Gretel API key\n",
        "\n",
        "import pandas as pd\n",
        "from gretel_client import configure_session\n",
        "\n",
        "pd.set_option(\"max_colwidth\", None)\n",
        "\n",
        "configure_session(api_key=\"prompt\", cache=\"yes\", validate=True)\n"
      ]
    },
    {
      "cell_type": "markdown",
      "metadata": {
        "id": "dDfOuvA5_15n"
      },
      "source": [
        "## Load and view the dataset\n"
      ]
    },
    {
      "cell_type": "code",
      "execution_count": 3,
      "metadata": {
        "colab": {
          "base_uri": "https://localhost:8080/",
          "height": 659
        },
        "id": "YRTunFZ2_15n",
        "outputId": "0b8c49e6-cee1-4065-afa3-65fb4b046186"
      },
      "outputs": [
        {
          "output_type": "execute_result",
          "data": {
            "text/plain": [
              "            DATE  PatientID   BirthDate   RACE ETHNICITY GENDER  \\\n",
              "0     2013-05-02         34  1940-04-24  white     irish      F   \n",
              "1     2013-05-02         34  1940-04-24  white     irish      F   \n",
              "2     2013-05-02         34  1940-04-24  white     irish      F   \n",
              "3     2013-05-02         34  1940-04-24  white     irish      F   \n",
              "4     2013-05-02         34  1940-04-24  white     irish      F   \n",
              "...          ...        ...         ...    ...       ...    ...   \n",
              "2280  2015-11-05          0  1956-03-31  white   swedish      M   \n",
              "2281  2015-11-05          0  1956-03-31  white   swedish      M   \n",
              "2282  2015-11-05          0  1956-03-31  white   swedish      M   \n",
              "2283  2015-11-05          0  1956-03-31  white   swedish      M   \n",
              "2284  2015-11-05          0  1956-03-31  white   swedish      M   \n",
              "\n",
              "                BIRTHPLACE                         ConditionDesc  \\\n",
              "0     Braintree Town MA US            Viral sinusitis (disorder)   \n",
              "1     Braintree Town MA US            Viral sinusitis (disorder)   \n",
              "2     Braintree Town MA US            Viral sinusitis (disorder)   \n",
              "3     Braintree Town MA US            Viral sinusitis (disorder)   \n",
              "4     Braintree Town MA US            Viral sinusitis (disorder)   \n",
              "...                    ...                                   ...   \n",
              "2280    Lanesborough MA US          Chronic sinusitis (disorder)   \n",
              "2281    Lanesborough MA US                           Prediabetes   \n",
              "2282    Lanesborough MA US  Streptococcal sore throat (disorder)   \n",
              "2283    Lanesborough MA US    Acute viral pharyngitis (disorder)   \n",
              "2284    Lanesborough MA US    Acute viral pharyngitis (disorder)   \n",
              "\n",
              "              EncounterDesc                   EncounterReasonDesc    ObsDesc  \\\n",
              "0     Encounter for symptom            Viral sinusitis (disorder)  Potassium   \n",
              "1     Encounter for symptom            Viral sinusitis (disorder)  Potassium   \n",
              "2     Encounter for symptom            Viral sinusitis (disorder)  Potassium   \n",
              "3     Encounter for symptom            Viral sinusitis (disorder)  Potassium   \n",
              "4     Encounter for symptom            Viral sinusitis (disorder)  Potassium   \n",
              "...                     ...                                   ...        ...   \n",
              "2280   Outpatient Encounter                                   NaN  Potassium   \n",
              "2281   Outpatient Encounter                                   NaN  Potassium   \n",
              "2282  Encounter for symptom  Streptococcal sore throat (disorder)  Potassium   \n",
              "2283  Encounter for symptom    Acute viral pharyngitis (disorder)  Potassium   \n",
              "2284  Encounter for symptom    Acute viral pharyngitis (disorder)  Potassium   \n",
              "\n",
              "      ObsValueFloat   UNITS ProcedureDate  \\\n",
              "0           6.53255  mmol/L    2010-06-28   \n",
              "1           6.53255  mmol/L    2012-01-31   \n",
              "2           6.53255  mmol/L    2013-01-09   \n",
              "3           6.53255  mmol/L    2013-01-09   \n",
              "4           6.53255  mmol/L    2013-05-02   \n",
              "...             ...     ...           ...   \n",
              "2280        6.50738  mmol/L    2016-11-18   \n",
              "2281        6.50738  mmol/L    2016-11-18   \n",
              "2282        6.50738  mmol/L    2016-11-18   \n",
              "2283        6.50738  mmol/L    2016-11-18   \n",
              "2284        6.50738  mmol/L    2016-11-18   \n",
              "\n",
              "                                        ProcedureDesc  \n",
              "0     Measurement of respiratory function (procedure)  \n",
              "1                      Sputum examination (procedure)  \n",
              "2                                 Bone immobilization  \n",
              "3                       Bone density scan (procedure)  \n",
              "4                Documentation of current medications  \n",
              "...                                               ...  \n",
              "2280             Documentation of current medications  \n",
              "2281             Documentation of current medications  \n",
              "2282             Documentation of current medications  \n",
              "2283             Documentation of current medications  \n",
              "2284             Documentation of current medications  \n",
              "\n",
              "[2285 rows x 15 columns]"
            ],
            "text/html": [
              "\n",
              "  <div id=\"df-b052477b-7bee-435e-805a-a6f787f32304\">\n",
              "    <div class=\"colab-df-container\">\n",
              "      <div>\n",
              "<style scoped>\n",
              "    .dataframe tbody tr th:only-of-type {\n",
              "        vertical-align: middle;\n",
              "    }\n",
              "\n",
              "    .dataframe tbody tr th {\n",
              "        vertical-align: top;\n",
              "    }\n",
              "\n",
              "    .dataframe thead th {\n",
              "        text-align: right;\n",
              "    }\n",
              "</style>\n",
              "<table border=\"1\" class=\"dataframe\">\n",
              "  <thead>\n",
              "    <tr style=\"text-align: right;\">\n",
              "      <th></th>\n",
              "      <th>DATE</th>\n",
              "      <th>PatientID</th>\n",
              "      <th>BirthDate</th>\n",
              "      <th>RACE</th>\n",
              "      <th>ETHNICITY</th>\n",
              "      <th>GENDER</th>\n",
              "      <th>BIRTHPLACE</th>\n",
              "      <th>ConditionDesc</th>\n",
              "      <th>EncounterDesc</th>\n",
              "      <th>EncounterReasonDesc</th>\n",
              "      <th>ObsDesc</th>\n",
              "      <th>ObsValueFloat</th>\n",
              "      <th>UNITS</th>\n",
              "      <th>ProcedureDate</th>\n",
              "      <th>ProcedureDesc</th>\n",
              "    </tr>\n",
              "  </thead>\n",
              "  <tbody>\n",
              "    <tr>\n",
              "      <th>0</th>\n",
              "      <td>2013-05-02</td>\n",
              "      <td>34</td>\n",
              "      <td>1940-04-24</td>\n",
              "      <td>white</td>\n",
              "      <td>irish</td>\n",
              "      <td>F</td>\n",
              "      <td>Braintree Town MA US</td>\n",
              "      <td>Viral sinusitis (disorder)</td>\n",
              "      <td>Encounter for symptom</td>\n",
              "      <td>Viral sinusitis (disorder)</td>\n",
              "      <td>Potassium</td>\n",
              "      <td>6.53255</td>\n",
              "      <td>mmol/L</td>\n",
              "      <td>2010-06-28</td>\n",
              "      <td>Measurement of respiratory function (procedure)</td>\n",
              "    </tr>\n",
              "    <tr>\n",
              "      <th>1</th>\n",
              "      <td>2013-05-02</td>\n",
              "      <td>34</td>\n",
              "      <td>1940-04-24</td>\n",
              "      <td>white</td>\n",
              "      <td>irish</td>\n",
              "      <td>F</td>\n",
              "      <td>Braintree Town MA US</td>\n",
              "      <td>Viral sinusitis (disorder)</td>\n",
              "      <td>Encounter for symptom</td>\n",
              "      <td>Viral sinusitis (disorder)</td>\n",
              "      <td>Potassium</td>\n",
              "      <td>6.53255</td>\n",
              "      <td>mmol/L</td>\n",
              "      <td>2012-01-31</td>\n",
              "      <td>Sputum examination (procedure)</td>\n",
              "    </tr>\n",
              "    <tr>\n",
              "      <th>2</th>\n",
              "      <td>2013-05-02</td>\n",
              "      <td>34</td>\n",
              "      <td>1940-04-24</td>\n",
              "      <td>white</td>\n",
              "      <td>irish</td>\n",
              "      <td>F</td>\n",
              "      <td>Braintree Town MA US</td>\n",
              "      <td>Viral sinusitis (disorder)</td>\n",
              "      <td>Encounter for symptom</td>\n",
              "      <td>Viral sinusitis (disorder)</td>\n",
              "      <td>Potassium</td>\n",
              "      <td>6.53255</td>\n",
              "      <td>mmol/L</td>\n",
              "      <td>2013-01-09</td>\n",
              "      <td>Bone immobilization</td>\n",
              "    </tr>\n",
              "    <tr>\n",
              "      <th>3</th>\n",
              "      <td>2013-05-02</td>\n",
              "      <td>34</td>\n",
              "      <td>1940-04-24</td>\n",
              "      <td>white</td>\n",
              "      <td>irish</td>\n",
              "      <td>F</td>\n",
              "      <td>Braintree Town MA US</td>\n",
              "      <td>Viral sinusitis (disorder)</td>\n",
              "      <td>Encounter for symptom</td>\n",
              "      <td>Viral sinusitis (disorder)</td>\n",
              "      <td>Potassium</td>\n",
              "      <td>6.53255</td>\n",
              "      <td>mmol/L</td>\n",
              "      <td>2013-01-09</td>\n",
              "      <td>Bone density scan (procedure)</td>\n",
              "    </tr>\n",
              "    <tr>\n",
              "      <th>4</th>\n",
              "      <td>2013-05-02</td>\n",
              "      <td>34</td>\n",
              "      <td>1940-04-24</td>\n",
              "      <td>white</td>\n",
              "      <td>irish</td>\n",
              "      <td>F</td>\n",
              "      <td>Braintree Town MA US</td>\n",
              "      <td>Viral sinusitis (disorder)</td>\n",
              "      <td>Encounter for symptom</td>\n",
              "      <td>Viral sinusitis (disorder)</td>\n",
              "      <td>Potassium</td>\n",
              "      <td>6.53255</td>\n",
              "      <td>mmol/L</td>\n",
              "      <td>2013-05-02</td>\n",
              "      <td>Documentation of current medications</td>\n",
              "    </tr>\n",
              "    <tr>\n",
              "      <th>...</th>\n",
              "      <td>...</td>\n",
              "      <td>...</td>\n",
              "      <td>...</td>\n",
              "      <td>...</td>\n",
              "      <td>...</td>\n",
              "      <td>...</td>\n",
              "      <td>...</td>\n",
              "      <td>...</td>\n",
              "      <td>...</td>\n",
              "      <td>...</td>\n",
              "      <td>...</td>\n",
              "      <td>...</td>\n",
              "      <td>...</td>\n",
              "      <td>...</td>\n",
              "      <td>...</td>\n",
              "    </tr>\n",
              "    <tr>\n",
              "      <th>2280</th>\n",
              "      <td>2015-11-05</td>\n",
              "      <td>0</td>\n",
              "      <td>1956-03-31</td>\n",
              "      <td>white</td>\n",
              "      <td>swedish</td>\n",
              "      <td>M</td>\n",
              "      <td>Lanesborough MA US</td>\n",
              "      <td>Chronic sinusitis (disorder)</td>\n",
              "      <td>Outpatient Encounter</td>\n",
              "      <td>NaN</td>\n",
              "      <td>Potassium</td>\n",
              "      <td>6.50738</td>\n",
              "      <td>mmol/L</td>\n",
              "      <td>2016-11-18</td>\n",
              "      <td>Documentation of current medications</td>\n",
              "    </tr>\n",
              "    <tr>\n",
              "      <th>2281</th>\n",
              "      <td>2015-11-05</td>\n",
              "      <td>0</td>\n",
              "      <td>1956-03-31</td>\n",
              "      <td>white</td>\n",
              "      <td>swedish</td>\n",
              "      <td>M</td>\n",
              "      <td>Lanesborough MA US</td>\n",
              "      <td>Prediabetes</td>\n",
              "      <td>Outpatient Encounter</td>\n",
              "      <td>NaN</td>\n",
              "      <td>Potassium</td>\n",
              "      <td>6.50738</td>\n",
              "      <td>mmol/L</td>\n",
              "      <td>2016-11-18</td>\n",
              "      <td>Documentation of current medications</td>\n",
              "    </tr>\n",
              "    <tr>\n",
              "      <th>2282</th>\n",
              "      <td>2015-11-05</td>\n",
              "      <td>0</td>\n",
              "      <td>1956-03-31</td>\n",
              "      <td>white</td>\n",
              "      <td>swedish</td>\n",
              "      <td>M</td>\n",
              "      <td>Lanesborough MA US</td>\n",
              "      <td>Streptococcal sore throat (disorder)</td>\n",
              "      <td>Encounter for symptom</td>\n",
              "      <td>Streptococcal sore throat (disorder)</td>\n",
              "      <td>Potassium</td>\n",
              "      <td>6.50738</td>\n",
              "      <td>mmol/L</td>\n",
              "      <td>2016-11-18</td>\n",
              "      <td>Documentation of current medications</td>\n",
              "    </tr>\n",
              "    <tr>\n",
              "      <th>2283</th>\n",
              "      <td>2015-11-05</td>\n",
              "      <td>0</td>\n",
              "      <td>1956-03-31</td>\n",
              "      <td>white</td>\n",
              "      <td>swedish</td>\n",
              "      <td>M</td>\n",
              "      <td>Lanesborough MA US</td>\n",
              "      <td>Acute viral pharyngitis (disorder)</td>\n",
              "      <td>Encounter for symptom</td>\n",
              "      <td>Acute viral pharyngitis (disorder)</td>\n",
              "      <td>Potassium</td>\n",
              "      <td>6.50738</td>\n",
              "      <td>mmol/L</td>\n",
              "      <td>2016-11-18</td>\n",
              "      <td>Documentation of current medications</td>\n",
              "    </tr>\n",
              "    <tr>\n",
              "      <th>2284</th>\n",
              "      <td>2015-11-05</td>\n",
              "      <td>0</td>\n",
              "      <td>1956-03-31</td>\n",
              "      <td>white</td>\n",
              "      <td>swedish</td>\n",
              "      <td>M</td>\n",
              "      <td>Lanesborough MA US</td>\n",
              "      <td>Acute viral pharyngitis (disorder)</td>\n",
              "      <td>Encounter for symptom</td>\n",
              "      <td>Acute viral pharyngitis (disorder)</td>\n",
              "      <td>Potassium</td>\n",
              "      <td>6.50738</td>\n",
              "      <td>mmol/L</td>\n",
              "      <td>2016-11-18</td>\n",
              "      <td>Documentation of current medications</td>\n",
              "    </tr>\n",
              "  </tbody>\n",
              "</table>\n",
              "<p>2285 rows × 15 columns</p>\n",
              "</div>\n",
              "      <button class=\"colab-df-convert\" onclick=\"convertToInteractive('df-b052477b-7bee-435e-805a-a6f787f32304')\"\n",
              "              title=\"Convert this dataframe to an interactive table.\"\n",
              "              style=\"display:none;\">\n",
              "        \n",
              "  <svg xmlns=\"http://www.w3.org/2000/svg\" height=\"24px\"viewBox=\"0 0 24 24\"\n",
              "       width=\"24px\">\n",
              "    <path d=\"M0 0h24v24H0V0z\" fill=\"none\"/>\n",
              "    <path d=\"M18.56 5.44l.94 2.06.94-2.06 2.06-.94-2.06-.94-.94-2.06-.94 2.06-2.06.94zm-11 1L8.5 8.5l.94-2.06 2.06-.94-2.06-.94L8.5 2.5l-.94 2.06-2.06.94zm10 10l.94 2.06.94-2.06 2.06-.94-2.06-.94-.94-2.06-.94 2.06-2.06.94z\"/><path d=\"M17.41 7.96l-1.37-1.37c-.4-.4-.92-.59-1.43-.59-.52 0-1.04.2-1.43.59L10.3 9.45l-7.72 7.72c-.78.78-.78 2.05 0 2.83L4 21.41c.39.39.9.59 1.41.59.51 0 1.02-.2 1.41-.59l7.78-7.78 2.81-2.81c.8-.78.8-2.07 0-2.86zM5.41 20L4 18.59l7.72-7.72 1.47 1.35L5.41 20z\"/>\n",
              "  </svg>\n",
              "      </button>\n",
              "      \n",
              "  <style>\n",
              "    .colab-df-container {\n",
              "      display:flex;\n",
              "      flex-wrap:wrap;\n",
              "      gap: 12px;\n",
              "    }\n",
              "\n",
              "    .colab-df-convert {\n",
              "      background-color: #E8F0FE;\n",
              "      border: none;\n",
              "      border-radius: 50%;\n",
              "      cursor: pointer;\n",
              "      display: none;\n",
              "      fill: #1967D2;\n",
              "      height: 32px;\n",
              "      padding: 0 0 0 0;\n",
              "      width: 32px;\n",
              "    }\n",
              "\n",
              "    .colab-df-convert:hover {\n",
              "      background-color: #E2EBFA;\n",
              "      box-shadow: 0px 1px 2px rgba(60, 64, 67, 0.3), 0px 1px 3px 1px rgba(60, 64, 67, 0.15);\n",
              "      fill: #174EA6;\n",
              "    }\n",
              "\n",
              "    [theme=dark] .colab-df-convert {\n",
              "      background-color: #3B4455;\n",
              "      fill: #D2E3FC;\n",
              "    }\n",
              "\n",
              "    [theme=dark] .colab-df-convert:hover {\n",
              "      background-color: #434B5C;\n",
              "      box-shadow: 0px 1px 3px 1px rgba(0, 0, 0, 0.15);\n",
              "      filter: drop-shadow(0px 1px 2px rgba(0, 0, 0, 0.3));\n",
              "      fill: #FFFFFF;\n",
              "    }\n",
              "  </style>\n",
              "\n",
              "      <script>\n",
              "        const buttonEl =\n",
              "          document.querySelector('#df-b052477b-7bee-435e-805a-a6f787f32304 button.colab-df-convert');\n",
              "        buttonEl.style.display =\n",
              "          google.colab.kernel.accessAllowed ? 'block' : 'none';\n",
              "\n",
              "        async function convertToInteractive(key) {\n",
              "          const element = document.querySelector('#df-b052477b-7bee-435e-805a-a6f787f32304');\n",
              "          const dataTable =\n",
              "            await google.colab.kernel.invokeFunction('convertToInteractive',\n",
              "                                                     [key], {});\n",
              "          if (!dataTable) return;\n",
              "\n",
              "          const docLinkHtml = 'Like what you see? Visit the ' +\n",
              "            '<a target=\"_blank\" href=https://colab.research.google.com/notebooks/data_table.ipynb>data table notebook</a>'\n",
              "            + ' to learn more about interactive tables.';\n",
              "          element.innerHTML = '';\n",
              "          dataTable['output_type'] = 'display_data';\n",
              "          await google.colab.output.renderOutput(dataTable, element);\n",
              "          const docLink = document.createElement('div');\n",
              "          docLink.innerHTML = docLinkHtml;\n",
              "          element.appendChild(docLink);\n",
              "        }\n",
              "      </script>\n",
              "    </div>\n",
              "  </div>\n",
              "  "
            ]
          },
          "metadata": {},
          "execution_count": 3
        }
      ],
      "source": [
        "a = pd.read_csv(\n",
        "    \"https://gretel-public-website.s3.amazonaws.com/datasets/experiments/healthcare_dataset_a.csv\"\n",
        ")\n",
        "\n",
        "a\n"
      ]
    },
    {
      "cell_type": "markdown",
      "metadata": {
        "id": "sLkVPQlh_15o"
      },
      "source": [
        "## Isolate the fields that require balancing\n",
        "\n",
        "- We'll balance \"RACE\", \"ETHNICITY\", and \"GENDER\"\n"
      ]
    },
    {
      "cell_type": "code",
      "execution_count": 4,
      "metadata": {
        "colab": {
          "base_uri": "https://localhost:8080/"
        },
        "id": "XN-KytoT_15p",
        "outputId": "85a9b4fb-8ae7-4e62-e960-7de56c83f441"
      },
      "outputs": [
        {
          "output_type": "execute_result",
          "data": {
            "text/plain": [
              "white       1616\n",
              "black        332\n",
              "hispanic     258\n",
              "asian         79\n",
              "Name: RACE, dtype: int64"
            ]
          },
          "metadata": {},
          "execution_count": 4
        }
      ],
      "source": [
        "a[\"RACE\"].value_counts()\n"
      ]
    },
    {
      "cell_type": "code",
      "execution_count": 5,
      "metadata": {
        "colab": {
          "base_uri": "https://localhost:8080/"
        },
        "id": "sqpSM_EU_15q",
        "outputId": "76866315-ac6f-4691-bb21-83ed881309e8"
      },
      "outputs": [
        {
          "output_type": "execute_result",
          "data": {
            "text/plain": [
              "irish              426\n",
              "german             267\n",
              "african            266\n",
              "french             240\n",
              "italian            213\n",
              "puerto_rican       175\n",
              "english            162\n",
              "polish             148\n",
              "mexican             83\n",
              "chinese             79\n",
              "russian             78\n",
              "swedish             50\n",
              "dominican           35\n",
              "west_indian         31\n",
              "french_canadian     12\n",
              "portuguese          12\n",
              "american             8\n",
              "Name: ETHNICITY, dtype: int64"
            ]
          },
          "metadata": {},
          "execution_count": 5
        }
      ],
      "source": [
        "a[\"ETHNICITY\"].value_counts()\n"
      ]
    },
    {
      "cell_type": "code",
      "execution_count": 6,
      "metadata": {
        "colab": {
          "base_uri": "https://localhost:8080/"
        },
        "id": "xZZ7v8Hf_15q",
        "outputId": "1f9314b1-a510-4257-afbd-8fbc0fbd1623"
      },
      "outputs": [
        {
          "output_type": "execute_result",
          "data": {
            "text/plain": [
              "F    1296\n",
              "M     989\n",
              "Name: GENDER, dtype: int64"
            ]
          },
          "metadata": {},
          "execution_count": 6
        }
      ],
      "source": [
        "a[\"GENDER\"].value_counts()\n"
      ]
    },
    {
      "cell_type": "markdown",
      "metadata": {
        "id": "1Eisd9JU_15r"
      },
      "source": [
        "## Create a seed file\n",
        "\n",
        "- Create a csv with one column for each balance field and one record for each combination of the balance field values.\n",
        "- Replicate the seeds to reach the desired synthetic data size.\n"
      ]
    },
    {
      "cell_type": "code",
      "execution_count": 7,
      "metadata": {
        "id": "iOi2i3qr_15s"
      },
      "outputs": [],
      "source": [
        "import itertools\n",
        "\n",
        "# Choose your balance columns\n",
        "balance_columns = [\"GENDER\", \"ETHNICITY\", \"RACE\"]\n",
        "\n",
        "# How many total synthetic records do you want\n",
        "gen_lines = len(a)\n",
        "\n",
        "# Get the list of values for each seed field and the\n",
        "# overall percent we'll need for each seed value combination\n",
        "categ_val_lists = []\n",
        "seed_percent = 1\n",
        "for field in balance_columns:\n",
        "    values = set(pd.Series(a[field].dropna()))\n",
        "    category_cnt = len(values)\n",
        "    categ_val_lists.append(list(values))\n",
        "    seed_percent = seed_percent * 1 / category_cnt\n",
        "seed_gen_cnt = seed_percent * gen_lines\n",
        "\n",
        "# Get the combo seeds we'll need. This is all combinations of all\n",
        "# seed field values\n",
        "seed_fields = []\n",
        "for combo in itertools.product(*categ_val_lists):\n",
        "    seed_dict = {}\n",
        "    i = 0\n",
        "    for field in balance_columns:\n",
        "        seed_dict[field] = combo[i]\n",
        "        i += 1\n",
        "    seed = {}\n",
        "    seed[\"seed\"] = seed_dict\n",
        "    seed[\"cnt\"] = seed_gen_cnt\n",
        "    seed_fields.append(seed)\n",
        "\n",
        "# Create a dataframe with the seed values used to condition the synthetic model\n",
        "gender_all = []\n",
        "ethnicity_all = []\n",
        "race_all = []\n",
        "for seed in seed_fields:\n",
        "    gender = seed[\"seed\"][\"GENDER\"]\n",
        "    ethnicity = seed[\"seed\"][\"ETHNICITY\"]\n",
        "    race = seed[\"seed\"][\"RACE\"]\n",
        "    cnt = seed[\"cnt\"]\n",
        "    for i in range(int(cnt)):\n",
        "        gender_all.append(gender)\n",
        "        ethnicity_all.append(ethnicity)\n",
        "        race_all.append(race)\n",
        "\n",
        "df_seed = pd.DataFrame(\n",
        "    {\"GENDER\": gender_all, \"ETHNICITY\": ethnicity_all, \"RACE\": race_all}\n",
        ")\n",
        "\n",
        "# Save the seed dataframe to a file\n",
        "seedfile = \"/tmp/balance_seeds.csv\"\n",
        "df_seed.to_csv(seedfile, index=False, header=True)\n"
      ]
    },
    {
      "cell_type": "markdown",
      "metadata": {
        "id": "VVaGfSFc_15t"
      },
      "source": [
        "## Create a synthetic config file\n"
      ]
    },
    {
      "cell_type": "code",
      "execution_count": 8,
      "metadata": {
        "id": "BInkOazF_15u",
        "outputId": "577d92c9-d372-4cc2-a9ee-b1e72af3074f",
        "colab": {
          "base_uri": "https://localhost:8080/"
        }
      },
      "outputs": [
        {
          "output_type": "stream",
          "name": "stderr",
          "text": [
            "WARNING:gretel_client.projects.models:This configuration will be deprecated soon. Please use the \"synthetics/tabular-lstm\" configuration.\n"
          ]
        }
      ],
      "source": [
        "# Grab the default Synthetic Config file\n",
        "from gretel_client.projects.models import read_model_config\n",
        "\n",
        "config = read_model_config(\"synthetics/default\")\n"
      ]
    },
    {
      "cell_type": "code",
      "execution_count": 9,
      "metadata": {
        "id": "Z3hDdxFn_15u"
      },
      "outputs": [],
      "source": [
        "# Adjust the desired number of synthetic records to generated\n",
        "\n",
        "config[\"models\"][0][\"synthetics\"][\"generate\"][\"num_records\"] = len(a)\n"
      ]
    },
    {
      "cell_type": "code",
      "execution_count": 10,
      "metadata": {
        "id": "uneHBVfN_15v"
      },
      "outputs": [],
      "source": [
        "# Adjust params for complex dataset\n",
        "\n",
        "config[\"models\"][0][\"synthetics\"][\"params\"][\"data_upsample_limit\"] = 10000\n"
      ]
    },
    {
      "cell_type": "markdown",
      "metadata": {
        "id": "RR0AHEBR_15v"
      },
      "source": [
        "## Include a seeding task in the config\n"
      ]
    },
    {
      "cell_type": "code",
      "execution_count": 11,
      "metadata": {
        "id": "Qq-wkWq0_15v"
      },
      "outputs": [],
      "source": [
        "task = {\"type\": \"seed\", \"attrs\": {\"fields\": balance_columns}}\n",
        "config[\"models\"][0][\"synthetics\"][\"task\"] = task\n"
      ]
    },
    {
      "cell_type": "markdown",
      "metadata": {
        "id": "IbDnimMH_15w"
      },
      "source": [
        "## Train a synthetic model\n"
      ]
    },
    {
      "cell_type": "code",
      "execution_count": null,
      "metadata": {
        "colab": {
          "base_uri": "https://localhost:8080/"
        },
        "id": "Yvf9EI85_15w",
        "outputId": "2a47f805-f1af-484f-aaef-2ad3986f6a2a"
      },
      "outputs": [
        {
          "output_type": "stream",
          "name": "stderr",
          "text": [
            "INFO: Starting poller\n"
          ]
        },
        {
          "output_type": "stream",
          "name": "stdout",
          "text": [
            "{\n",
            "    \"uid\": \"641ecd2e7067bc6035077efb\",\n",
            "    \"guid\": \"model_2NVD9qS29UcTWWtvqgDi8Eq0AWB\",\n",
            "    \"model_name\": \"default-config\",\n",
            "    \"runner_mode\": \"cloud\",\n",
            "    \"user_id\": \"61779c3ebff62105d3757a71\",\n",
            "    \"user_guid\": \"user_26hlyPRrQXap2t6NhfbC1G7JA0l\",\n",
            "    \"billing_domain\": null,\n",
            "    \"billing_domain_guid\": null,\n",
            "    \"project_id\": \"641ecd27e5bc51838c29c8d0\",\n",
            "    \"project_guid\": \"proj_2NVD8qcBYJeL5v7L2cvL7bzakJA\",\n",
            "    \"status_history\": {\n",
            "        \"created\": \"2023-03-25T10:30:06.390681Z\"\n",
            "    },\n",
            "    \"last_modified\": \"2023-03-25T10:30:06.480879Z\",\n",
            "    \"status\": \"created\",\n",
            "    \"last_active_hb\": null,\n",
            "    \"duration_minutes\": null,\n",
            "    \"error_msg\": null,\n",
            "    \"error_id\": null,\n",
            "    \"traceback\": null,\n",
            "    \"annotations\": null,\n",
            "    \"container_image\": \"074762682575.dkr.ecr.us-west-2.amazonaws.com/gretelai/synthetics@sha256:0e0d8d352d355d498b9da449f6ffb4bb33e87f530380a98afe157718f66877d1\",\n",
            "    \"container_image_version\": \"2.10.41\",\n",
            "    \"model_type\": \"synthetics\",\n",
            "    \"model_type_alias\": null,\n",
            "    \"config\": {\n",
            "        \"schema_version\": \"1.0\",\n",
            "        \"name\": \"default-config\",\n",
            "        \"models\": [\n",
            "            {\n",
            "                \"synthetics\": {\n",
            "                    \"privacy_filters\": {\n",
            "                        \"outliers\": \"auto\",\n",
            "                        \"similarity\": \"auto\",\n",
            "                        \"max_iterations\": 10\n",
            "                    },\n",
            "                    \"data_source\": [\n",
            "                        \"gretel_26d42880f23547a8b6f034ea24f3b521_training_data.csv\"\n",
            "                    ],\n",
            "                    \"ref_data\": {},\n",
            "                    \"params\": {\n",
            "                        \"field_delimiter\": null,\n",
            "                        \"epochs\": 100,\n",
            "                        \"batch_size\": null,\n",
            "                        \"vocab_size\": 20000,\n",
            "                        \"reset_states\": null,\n",
            "                        \"learning_rate\": 0.01,\n",
            "                        \"rnn_units\": null,\n",
            "                        \"dropout_rate\": null,\n",
            "                        \"overwrite\": true,\n",
            "                        \"early_stopping\": null,\n",
            "                        \"gen_temp\": null,\n",
            "                        \"predict_batch_size\": null,\n",
            "                        \"validation_split\": false,\n",
            "                        \"dp\": null,\n",
            "                        \"dp_noise_multiplier\": null,\n",
            "                        \"dp_l2_norm_clip\": null,\n",
            "                        \"dp_microbatches\": null,\n",
            "                        \"early_stopping_min_delta\": null,\n",
            "                        \"max_training_time_seconds\": 3000,\n",
            "                        \"field_cluster_size\": 20,\n",
            "                        \"average_record_length_threshold\": 250.0,\n",
            "                        \"data_upsample_limit\": 10000\n",
            "                    },\n",
            "                    \"validators\": {\n",
            "                        \"in_set_count\": 10,\n",
            "                        \"pattern_count\": 10,\n",
            "                        \"datetime_formats\": \"infer\",\n",
            "                        \"use_numeric_iqr\": false,\n",
            "                        \"allow_empty_values\": true,\n",
            "                        \"open_close_chars\": null\n",
            "                    },\n",
            "                    \"generate\": {\n",
            "                        \"num_records\": 2285,\n",
            "                        \"max_invalid\": null\n",
            "                    },\n",
            "                    \"task\": {\n",
            "                        \"type\": \"seed\",\n",
            "                        \"attrs\": {\n",
            "                            \"fields\": [\n",
            "                                \"GENDER\",\n",
            "                                \"ETHNICITY\",\n",
            "                                \"RACE\"\n",
            "                            ]\n",
            "                        }\n",
            "                    },\n",
            "                    \"debug\": {\n",
            "                        \"invalid_record_cutoff\": 40\n",
            "                    },\n",
            "                    \"data_checks\": {\n",
            "                        \"strategy\": \"log\"\n",
            "                    },\n",
            "                    \"evaluate\": {\n",
            "                        \"correlation_columns\": 75,\n",
            "                        \"sqs_report_columns\": 250,\n",
            "                        \"sqs_report_rows\": 5000,\n",
            "                        \"mandatory_columns\": null,\n",
            "                        \"target\": null,\n",
            "                        \"holdout\": null,\n",
            "                        \"metric\": null,\n",
            "                        \"models\": null,\n",
            "                        \"skip\": false,\n",
            "                        \"task\": null\n",
            "                    },\n",
            "                    \"fallback\": {\n",
            "                        \"allow\": false,\n",
            "                        \"max_fallback_training_time_seconds\": 300,\n",
            "                        \"max_fallback_generation_time_seconds\": 300\n",
            "                    }\n",
            "                }\n",
            "            }\n",
            "        ],\n",
            "        \"notifications\": null,\n",
            "        \"label_predictors\": null\n",
            "    },\n",
            "    \"autouse_config\": null,\n",
            "    \"autouse_handler_id\": null,\n",
            "    \"auth_source\": \"grtu\"\n",
            "}\n"
          ]
        },
        {
          "output_type": "stream",
          "name": "stderr",
          "text": [
            "INFO: Status is pending. A Gretel Cloud worker is being allocated to begin model creation.\n",
            "INFO: Status is active. A worker has started creating your model!\n",
            "2023-03-25T10:30:21.682115Z  Analyzing input data and checking for auto-params...\n",
            "2023-03-25T10:30:37.541703Z  Starting synthetic model training\n",
            "2023-03-25T10:30:37.543723Z  Loading training data\n",
            "2023-03-25T10:30:37.551449Z  Running pre-flight data checks on input data\n"
          ]
        }
      ],
      "source": [
        "from gretel_client import projects\n",
        "from gretel_client.helpers import poll\n",
        "\n",
        "training_path = \"training_data.csv\"\n",
        "a.to_csv(training_path)\n",
        "\n",
        "project = projects.create_or_get_unique_project(name=\"balancing-data-example\")\n",
        "model = project.create_model_obj(model_config=config, data_source=training_path)\n",
        "\n",
        "model.submit_cloud()\n",
        "poll(model)\n"
      ]
    },
    {
      "cell_type": "markdown",
      "metadata": {
        "id": "X--V8DHl_15w"
      },
      "source": [
        "## Generate data using the balance seeds\n"
      ]
    },
    {
      "cell_type": "code",
      "execution_count": null,
      "metadata": {
        "id": "PeZPWdXT_15x"
      },
      "outputs": [],
      "source": [
        "rh = model.create_record_handler_obj(\n",
        "    data_source=seedfile, params={\"num_records\": len(df_seed)}\n",
        ")\n",
        "rh.submit_cloud()\n",
        "poll(rh)\n",
        "synth_df = pd.read_csv(rh.get_artifact_link(\"data\"), compression=\"gzip\")\n",
        "synth_df.head()\n"
      ]
    },
    {
      "cell_type": "markdown",
      "metadata": {
        "id": "GFoJ8niJ_15x"
      },
      "source": [
        "## Validate the balanced demographic data\n"
      ]
    },
    {
      "cell_type": "code",
      "execution_count": null,
      "metadata": {
        "id": "CXdorzf1_15x"
      },
      "outputs": [],
      "source": [
        "synth_df[\"GENDER\"].value_counts()\n"
      ]
    },
    {
      "cell_type": "code",
      "execution_count": null,
      "metadata": {
        "id": "yxrQujl0_15x"
      },
      "outputs": [],
      "source": [
        "synth_df[\"ETHNICITY\"].value_counts()\n"
      ]
    },
    {
      "cell_type": "code",
      "execution_count": null,
      "metadata": {
        "id": "Ghc2mEQg_15y"
      },
      "outputs": [],
      "source": [
        "synth_df[\"RACE\"].value_counts()\n"
      ]
    },
    {
      "cell_type": "code",
      "execution_count": null,
      "metadata": {
        "id": "5152iEX1_15y"
      },
      "outputs": [],
      "source": []
    }
  ],
  "metadata": {
    "colab": {
      "name": "Gretel - Balancing datasets with conditional data generation",
      "provenance": [],
      "include_colab_link": true
    },
    "kernelspec": {
      "display_name": "Python 3 (ipykernel)",
      "language": "python",
      "name": "python3"
    },
    "language_info": {
      "codemirror_mode": {
        "name": "ipython",
        "version": 3
      },
      "file_extension": ".py",
      "mimetype": "text/x-python",
      "name": "python",
      "nbconvert_exporter": "python",
      "pygments_lexer": "ipython3",
      "version": "3.9.10"
    }
  },
  "nbformat": 4,
  "nbformat_minor": 0
}